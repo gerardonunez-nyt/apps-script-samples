{
  "nbformat": 4,
  "nbformat_minor": 0,
  "metadata": {
    "colab": {
      "name": "Storytelling Testing Semi-Automation",
      "provenance": [],
      "collapsed_sections": [],
      "authorship_tag": "ABX9TyNPj0SIgFN2Ef+ZJZLxH6Wv",
      "include_colab_link": true
    },
    "kernelspec": {
      "name": "python3",
      "display_name": "Python 3"
    },
    "language_info": {
      "name": "python"
    }
  },
  "cells": [
    {
      "cell_type": "markdown",
      "metadata": {
        "id": "view-in-github",
        "colab_type": "text"
      },
      "source": [
        "<a href=\"https://colab.research.google.com/github/gerardonunez-nyt/apps-script-samples/blob/master/Storytelling_Testing_Semi_Automation.ipynb\" target=\"_parent\"><img src=\"https://colab.research.google.com/assets/colab-badge.svg\" alt=\"Open In Colab\"/></a>"
      ]
    },
    {
      "cell_type": "markdown",
      "source": [
        "# A/B Testing Data Validation"
      ],
      "metadata": {
        "id": "dAJJn2SI67Gf"
      }
    },
    {
      "cell_type": "code",
      "execution_count": null,
      "metadata": {
        "colab": {
          "base_uri": "https://localhost:8080/"
        },
        "id": "Qkoo7sKj6uok",
        "outputId": "c786b025-8c94-4e81-9b6b-29dee8ba5f8d"
      },
      "outputs": [
        {
          "output_type": "stream",
          "name": "stdout",
          "text": [
            "Authenticated\n"
          ]
        }
      ],
      "source": [
        "# Authenticate, because access to BigQuery is not publicly available.\n",
        "from google.colab import auth\n",
        "auth.authenticate_user()\n",
        "print('Authenticated')\n",
        "\n",
        "# Select the project you'll be using. This will be attached to your email with the Oauth2 authentication protocol.\n",
        "project_id = 'nyt-bigquery-beta-workspace'\n",
        "\n",
        "# Import the package\n",
        "from google.cloud import bigquery\n",
        "\n",
        "# Create a client object, with your credentials and directed at your project.\n",
        "client = bigquery.Client(project=project_id)\n",
        "\n",
        "# Imports\n",
        "import pandas as pd\n",
        "pd.set_option('max_rows', 9999)"
      ]
    },
    {
      "cell_type": "code",
      "source": [
        "# Define variables\n",
        "experiment_data = {\n",
        "  'test': ''' 'DFP_live_0722' ''',\n",
        "  'start_date': ''' '2022-08-09' ''',\n",
        "  'end_date': ''' '2022-08-09' ''',\n",
        "  'validation_table': 'validation_DFP_live_0722'\n",
        "}"
      ],
      "metadata": {
        "id": "wWWQIoq97h88"
      },
      "execution_count": null,
      "outputs": []
    },
    {
      "cell_type": "code",
      "source": [
        "# Collect all exposures from et.page\n",
        "\n",
        "# We need this logic to be reusable (view)\n",
        "# We need this logic to run for multiple parallel tests (parameterize with a list)\n",
        "# We need this logic to run daily for multiple tests (Bisque / dbt)\n",
        "\n",
        "collect_exposures = \"\"\"\n",
        "CREATE OR REPLACE TABLE `nyt-bigquery-beta-workspace.story.validation_table` AS(\n",
        "\n",
        "SELECT\n",
        "  source_app,\n",
        "  DATE(_pt) AS date,\n",
        "  ab.test,\n",
        "  ab.variant,\n",
        "  pageview_id,\n",
        "  agent_id,\n",
        "  combined_regi_id,\n",
        "  coalesce(safe_cast(combined_regi_id as string), agent_id) as user_id, \n",
        "  timestamps.started_dt_nyct as pv_started_dt_nyct,\n",
        "  ab.dt_nyct as expose_dt_nyct,\n",
        "  CASE\n",
        "    WHEN agent.user_agent LIKE '%nytios%' THEN 'nyt_ios'\n",
        "    WHEN agent.user_agent LIKE '%nytiphone%' THEN 'nyt_ios'\n",
        "    WHEN agent.user_agent LIKE '%nytipad%' THEN 'nyt_ios'\n",
        "    WHEN LOWER(agent.user_agent) LIKE '%nyt_android%' THEN 'nyt_android'\n",
        "    WHEN p.source_app = 'nyt-vi' AND agent.device.is_computer THEN 'desktop'\n",
        "    WHEN p.source_app = 'nyt-vi' AND (agent.device.is_mobile OR agent.device.is_tablet) THEN 'mobile_web'\n",
        "    ELSE NULL\n",
        "  END as platform\n",
        "FROM\n",
        "  `nyt-eventtracker-prd.et.page` p,\n",
        "  UNNEST(ab_exposes) AS ab\n",
        "WHERE\n",
        "  DATE(_pt) BETWEEN \"\"\" + experiment_data['start_date'] + \"\"\"\n",
        "  AND \"\"\" + experiment_data['end_date'] + \"\"\"\n",
        "  AND ab.test = \"\"\" + experiment_data['test'] + \"\"\" ) \"\"\"\n",
        "\n",
        "client.query(collect_exposures)"
      ],
      "metadata": {
        "id": "WbYCLIPH8jSH"
      },
      "execution_count": null,
      "outputs": []
    },
    {
      "cell_type": "markdown",
      "source": [
        "# Check for leakage\n",
        "\n",
        "Agents who are exposed to multiple variants."
      ],
      "metadata": {
        "id": "F1i8RLfSCQA3"
      }
    },
    {
      "cell_type": "code",
      "source": [
        "# We want to use the leakage result to filter\n",
        "# We want to calculate leakage % and display in Colab\n",
        "# We don't want to store this info as a table\n",
        "\n",
        "leakage_from_exposures = \"\"\"\n",
        "CREATE TEMP TABLE leakage_exposures AS(\n",
        "\n",
        "SELECT\n",
        "  agent_id,\n",
        "  count(distinct variant) as variant_exposure,\n",
        "  case when count(distinct variant) > 1 then 1\n",
        "  else 0\n",
        "  end as is_leakage\n",
        "FROM\n",
        "  `nyt-bigquery-beta-workspace.story.validation_table`\n",
        "GROUP BY\n",
        "  1);\n",
        "\"\"\"\n",
        "\n",
        "leakage_pct = leakage_from_exposures + \"\"\"\n",
        "\n",
        "SELECT\n",
        "  COUNT(DISTINCT CASE WHEN is_leakage = 1 THEN agent_id END) leakaged_agents,\n",
        "  COUNT(DISTINCT CASE WHEN is_leakage = 0 THEN agent_id END) non_leaked_agents,\n",
        "  SAFE_DIVIDE(\n",
        "    COUNT(DISTINCT CASE WHEN is_leakage = 1 THEN agent_id END),\n",
        "    COUNT(DISTINCT agent_id)\n",
        "             ) pct_leakage\n",
        "FROM\n",
        "  leakage_exposures\n",
        "\"\"\"\n",
        "\n",
        "leakage_pct_data = client.query(leakage_pct).to_dataframe()\n",
        "\n",
        "leakage_pct_data"
      ],
      "metadata": {
        "id": "ugJrWLeWCX_a"
      },
      "execution_count": null,
      "outputs": []
    },
    {
      "cell_type": "markdown",
      "source": [
        "## Remove leakage from exposures data"
      ],
      "metadata": {
        "id": "T3e51Rw7WwlW"
      }
    },
    {
      "cell_type": "code",
      "source": [
        "remove_leakage = leakage_from_exposures + \"\"\"\n",
        "\n",
        "DELETE FROM `nyt-bigquery-beta-workspace.story.validation_table`\n",
        "WHERE\n",
        "agent_id IN (SELECT DISTINCT agent_id FROM leakage_exposures WHERE is_leakage = 1)\n",
        "\n",
        "\"\"\"\n",
        "\n",
        "client.query(remove_leakage)"
      ],
      "metadata": {
        "id": "QtmA8RIFWvxM"
      },
      "execution_count": null,
      "outputs": []
    },
    {
      "cell_type": "markdown",
      "source": [
        "# Check proportions of variants\n",
        "Overall and by platform."
      ],
      "metadata": {
        "id": "6a9Zvc2OZm8H"
      }
    },
    {
      "cell_type": "code",
      "source": [
        "variant_check = \"\"\"\n",
        "SELECT\n",
        "  variant,\n",
        "  COUNT(DISTINCT agent_id) as agents, \n",
        "  ROUND(COUNT(DISTINCT agent_id) / SUM(COUNT(DISTINCT agent_id)) OVER(), 4) percent_total\n",
        "FROM\n",
        "  `nyt-bigquery-beta-workspace.story.validation_table`\n",
        "GROUP BY\n",
        "  1\n",
        "ORDER BY \n",
        "  1\n",
        "\"\"\"\n",
        "\n",
        "variant_check_data = client.query(variant_check).to_dataframe()\n",
        "\n",
        "variant_check_data"
      ],
      "metadata": {
        "id": "M8G1nXFteMBH"
      },
      "execution_count": null,
      "outputs": []
    },
    {
      "cell_type": "code",
      "source": [
        "platform_check = \"\"\"\n",
        "SELECT\n",
        "  variant,\n",
        "  platform,\n",
        "  COUNT(DISTINCT agent_id) agents,\n",
        "  COUNT(DISTINCT pageview_id) pageviews,\n",
        "  COUNT(1) exposures\n",
        "FROM\n",
        "  `nyt-bigquery-beta-workspace.story.validation_table`\n",
        "GROUP BY\n",
        "  1,2\n",
        "ORDER BY\n",
        "  1,2\n",
        "\"\"\"\n",
        "\n",
        "platform_check_data = client.query(platform_check).to_dataframe()\n",
        "\n",
        "platform_check_data"
      ],
      "metadata": {
        "id": "xNo-GbN1Zxfp"
      },
      "execution_count": null,
      "outputs": []
    },
    {
      "cell_type": "markdown",
      "source": [
        "## Check % of test pageviews over total pvs\n",
        "Not needed for every test"
      ],
      "metadata": {
        "id": "8_jK1qIQf1DM"
      }
    },
    {
      "cell_type": "code",
      "source": [
        "test_pvs_check = \"\"\"\n",
        "WITH \n",
        "expose_data AS (\n",
        "SELECT date, COUNT(DISTINCT pageview_id) expose_pageviews\n",
        "FROM `nyt-bigquery-beta-workspace.story.validation_table`\n",
        "GROUP BY 1),\n",
        "\n",
        "pv_data AS (\n",
        "SELECT \n",
        "  DATE( _PARTITIONTIME) as date, \n",
        "  SUM(page_views) total_live_parent_pageviews\n",
        "FROM `nyt-bigquery-beta-workspace.audience_data.behavior_counts`\n",
        "INNER JOIN `nyt-bigquery-beta-workspace.dig_pubp.content_master_live_parents` USING(uri)\n",
        "WHERE \n",
        "  DATE(_PARTITIONTIME) BETWEEN \"\"\" + experiment_data['start_date'] + \"\"\"\n",
        "  AND \"\"\" + experiment_data['end_date'] + \"\"\"\n",
        "GROUP BY\n",
        "  1)\n",
        "\n",
        "SELECT date, pv_data.total_live_parent_pageviews, expose_data.expose_pageviews, \n",
        "  ROUND((expose_data.expose_pageviews / pv_data.total_live_parent_pageviews), 4) AS percent_test_over_pvs\n",
        "FROM pv_data\n",
        "LEFT JOIN expose_data USING(date)\n",
        "ORDER BY 1\n",
        "\"\"\"\n",
        "\n",
        "test_pvs_check_data = client.query(test_pvs_check).to_dataframe()\n",
        "\n",
        "test_pvs_check_data"
      ],
      "metadata": {
        "id": "UITP8zLdf443"
      },
      "execution_count": null,
      "outputs": []
    }
  ]
}